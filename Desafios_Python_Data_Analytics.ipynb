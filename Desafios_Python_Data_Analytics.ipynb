{
  "nbformat": 4,
  "nbformat_minor": 0,
  "metadata": {
    "colab": {
      "provenance": [],
      "authorship_tag": "ABX9TyN2LJXFvUNet5e1XgeLDQdr",
      "include_colab_link": true
    },
    "kernelspec": {
      "name": "python3",
      "display_name": "Python 3"
    },
    "language_info": {
      "name": "python"
    }
  },
  "cells": [
    {
      "cell_type": "markdown",
      "metadata": {
        "id": "view-in-github",
        "colab_type": "text"
      },
      "source": [
        "<a href=\"https://colab.research.google.com/github/kayohr/Projetos_BI/blob/main/Desafios_Python_Data_Analytics.ipynb\" target=\"_parent\"><img src=\"https://colab.research.google.com/assets/colab-badge.svg\" alt=\"Open In Colab\"/></a>"
      ]
    },
    {
      "cell_type": "code",
      "execution_count": 1,
      "metadata": {
        "colab": {
          "base_uri": "https://localhost:8080/"
        },
        "id": "YIC3CRuY8qvd",
        "outputId": "ba270d04-76be-4d25-cba0-3fdf9ae7649e"
      },
      "outputs": [
        {
          "output_type": "stream",
          "name": "stdout",
          "text": [
            "10, 20, 30, 40, 50\n",
            "30.0\n"
          ]
        }
      ],
      "source": [
        "# Receber a lista do usuário\n",
        "entrada = input().strip()\n",
        "# Converte a string de entrada em uma lista de números\n",
        "lista = [float(x.strip()) for x in entrada.split(',')]\n",
        "\n",
        "# Calcula a soma dos números na lista\n",
        "soma = sum(lista)\n",
        "# Calcula a quantidade de elementos na lista\n",
        "quantidade = len(lista)\n",
        "# Calcula a média aritmética\n",
        "media = soma / quantidade\n",
        "\n",
        "# Exibir a média com uma casa decimal\n",
        "print(f'{media:.1f}')\n"
      ]
    },
    {
      "cell_type": "code",
      "source": [
        "# Solicita ao usuário uma lista de números separados por vírgula e os converte para ponto flutuante\n",
        "numeros = list(map(float, input().split(',')))\n",
        "\n",
        "# Define a função para calcular a mediana de uma lista de números\n",
        "def calcular_mediana(numeros):\n",
        "    # Ordena a lista de números em ordem crescente\n",
        "    numeros_ordenados = sorted(numeros)\n",
        "    # Obtém o comprimento da lista ordenada\n",
        "    n = len(numeros_ordenados)\n",
        "    # Calcula o ponto médio da lista\n",
        "    ponto_medio = n // 2\n",
        "\n",
        "    # Verifica se a quantidade de números é ímpar\n",
        "    if n % 2 != 0:\n",
        "        # Se for ímpar, retorna o valor no meio da lista\n",
        "        return numeros_ordenados[ponto_medio]\n",
        "    else:\n",
        "        # Se for par, retorna a média dos dois valores do meio da lista\n",
        "        return (numeros_ordenados[ponto_medio - 1] + numeros_ordenados[ponto_medio]) / 2\n",
        "\n",
        "# Chama a função calcular_mediana com a lista de números como argumento e imprime o resultado\n",
        "print(f'{calcular_mediana(numeros):.1f}')\n"
      ],
      "metadata": {
        "colab": {
          "base_uri": "https://localhost:8080/"
        },
        "id": "MI5FJqqv-f1s",
        "outputId": "fbb5ca84-93a6-409b-bf6c-fe51003ce4f1"
      },
      "execution_count": 2,
      "outputs": [
        {
          "output_type": "stream",
          "name": "stdout",
          "text": [
            "10, 20, 30, 40, 50\n",
            "30.0\n"
          ]
        }
      ]
    }
  ]
}